{
 "cells": [
  {
   "cell_type": "code",
   "id": "initial_id",
   "metadata": {
    "collapsed": true,
    "ExecuteTime": {
     "end_time": "2025-08-01T17:45:04.046924Z",
     "start_time": "2025-08-01T17:45:04.043984Z"
    }
   },
   "source": [
    "from sklearn.datasets import fetch_california_housing\n",
    "from sklearn.model_selection import train_test_split\n",
    "from sklearn.ensemble import RandomForestRegressor\n",
    "from xgboost import XGBRegressor\n"
   ],
   "outputs": [],
   "execution_count": 30
  },
  {
   "metadata": {
    "ExecuteTime": {
     "end_time": "2025-08-01T17:45:04.279161Z",
     "start_time": "2025-08-01T17:45:04.266263Z"
    }
   },
   "cell_type": "code",
   "source": [
    "# Fetch data.\n",
    "data = fetch_california_housing()\n",
    "X, y = data.data, data.target\n",
    "\n",
    "# Split data into training and test sets.\n",
    "X_train, X_test, y_train, y_test = train_test_split(X, y, test_size=0.2, random_state=42)\n",
    "\n",
    "# Create RandomForest and XGBoost models.\n",
    "XGBoost_regressor = XGBRegressor(n_estimators=100) # Define the number of weak learners\n",
    "random_forest_regressor = RandomForestRegressor(n_estimators=100) # number the amount of strong learners"
   ],
   "id": "2cb45d250ade596e",
   "outputs": [],
   "execution_count": 31
  },
  {
   "metadata": {
    "ExecuteTime": {
     "end_time": "2025-08-01T17:47:04.904792Z",
     "start_time": "2025-08-01T17:46:53.530050Z"
    }
   },
   "cell_type": "code",
   "source": [
    "# Train and compute score for XGBoost_Regressor\n",
    "XGBoost_regressor.fit(X_train, y_train)\n",
    "Score_boost = XGBoost_regressor.score(X_test, y_test)\n",
    "\n",
    "# Train and compute score for random_forest_regressor\n",
    "random_forest_regressor.fit(X_train, y_train)\n",
    "Score_bagging = random_forest_regressor.score(X_test, y_test)\n",
    "\n",
    "# Calculate R^2 values for both models. Closer to 1 the better.\n",
    "print(f\"score for XGBoost: {Score_boost:.4f}, random forest: {Score_bagging:.4f}\")"
   ],
   "id": "60db87e94e83ffcc",
   "outputs": [
    {
     "name": "stdout",
     "output_type": "stream",
     "text": [
      "score for XGBoost: 0.8301%, random forest: 0.8050%\n"
     ]
    }
   ],
   "execution_count": 34
  }
 ],
 "metadata": {
  "kernelspec": {
   "display_name": "Python 3",
   "language": "python",
   "name": "python3"
  },
  "language_info": {
   "codemirror_mode": {
    "name": "ipython",
    "version": 2
   },
   "file_extension": ".py",
   "mimetype": "text/x-python",
   "name": "python",
   "nbconvert_exporter": "python",
   "pygments_lexer": "ipython2",
   "version": "2.7.6"
  }
 },
 "nbformat": 4,
 "nbformat_minor": 5
}
